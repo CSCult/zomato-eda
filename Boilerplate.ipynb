{
 "cells": [
  {
   "cell_type": "code",
   "execution_count": 1,
   "id": "canadian-tournament",
   "metadata": {},
   "outputs": [],
   "source": [
    "# Download the dataset (csv file) from the link in README file "
   ]
  },
  {
   "cell_type": "code",
   "execution_count": 2,
   "id": "differential-guitar",
   "metadata": {},
   "outputs": [],
   "source": [
    "# Import all the required libraries\n"
   ]
  },
  {
   "cell_type": "markdown",
   "id": "disabled-topic",
   "metadata": {},
   "source": [
    "## Reading CSV"
   ]
  },
  {
   "cell_type": "code",
   "execution_count": 3,
   "id": "voluntary-aquatic",
   "metadata": {},
   "outputs": [],
   "source": [
    "# Read the csv file\n",
    "# df = pd.read_csv(\" provide the csv file path \")"
   ]
  },
  {
   "cell_type": "code",
   "execution_count": 4,
   "id": "prospective-crime",
   "metadata": {},
   "outputs": [],
   "source": [
    "# Task 1 - Understanding Dataset"
   ]
  },
  {
   "cell_type": "code",
   "execution_count": 5,
   "id": "heavy-headline",
   "metadata": {},
   "outputs": [],
   "source": [
    "# Task 2 -  Cleaning each Column"
   ]
  },
  {
   "cell_type": "code",
   "execution_count": 6,
   "id": "violent-mandate",
   "metadata": {},
   "outputs": [],
   "source": [
    "# Task 3 - Visualizations "
   ]
  }
 ],
 "metadata": {
  "kernelspec": {
   "display_name": "Python 3",
   "language": "python",
   "name": "python3"
  },
  "language_info": {
   "codemirror_mode": {
    "name": "ipython",
    "version": 3
   },
   "file_extension": ".py",
   "mimetype": "text/x-python",
   "name": "python",
   "nbconvert_exporter": "python",
   "pygments_lexer": "ipython3",
   "version": "3.7.6"
  }
 },
 "nbformat": 4,
 "nbformat_minor": 5
}
